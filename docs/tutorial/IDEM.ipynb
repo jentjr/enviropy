{
 "cells": [
  {
   "cell_type": "code",
   "execution_count": 1,
   "metadata": {
    "collapsed": true
   },
   "outputs": [],
   "source": [
    "import pandas as pd\n",
    "import seaborn as sns\n",
    "import matplotlib.pyplot as plt"
   ]
  },
  {
   "cell_type": "code",
   "execution_count": 2,
   "metadata": {
    "collapsed": true
   },
   "outputs": [],
   "source": [
    "BASE_IDEM_URL = 'http://www.in.gov/idem/cleanwater/files/gw_monitoring_network_data_'\n",
    "YEARS = ['2008', '2009', '2010', '2011', '2012', '2013', '2014']\n",
    "\n",
    "urls = []\n",
    "for year in YEARS:\n",
    "    urls.append(BASE_IDEM_URL+'{0}{1}'.format(year, '.xls'))"
   ]
  },
  {
   "cell_type": "code",
   "execution_count": 3,
   "metadata": {},
   "outputs": [],
   "source": [
    "idem_08_10 = pd.DataFrame()\n",
    "for url in urls[0:3]:\n",
    "    data = pd.read_excel(url, sheetname = \"Sheet1\")\n",
    "    idem_08_10 = idem_08_10.append(data)"
   ]
  },
  {
   "cell_type": "code",
   "execution_count": 4,
   "metadata": {},
   "outputs": [],
   "source": [
    "idem_11 = pd.read_excel(urls[3])\n",
    "idem_11 = idem_11.rename(columns = {'Sample ID':'SAMPLEID'})"
   ]
  },
  {
   "cell_type": "code",
   "execution_count": 5,
   "metadata": {},
   "outputs": [],
   "source": [
    "idem_12 = pd.read_excel(urls[4], sheetname = 'Detections')\n",
    "idem_12 = idem_12.rename(columns = {'SiteID':'GWMN Site ID', \\\n",
    "                                    'Physical_System_City': 'City', \\\n",
    "                                    'COUNTY':'County', 'DEPTH': 'Well Depth (ft)', \\\n",
    "                                    'TOPO':'Topographic Map', \\\n",
    "                                    'TWP': 'Township', \\\n",
    "                                    'TWPD': 'Township Direction', \\\n",
    "                                    'RNG' : 'Range', \\\n",
    "                                    'RNGD': 'Range Direction', \\\n",
    "                                    'PARCEL_ID': 'Section', \\\n",
    "                                    'SampleID':'SAMPLEID', \\\n",
    "                                    'SECTION UTM_X':'Section UTM X', \\\n",
    "                                    'SECTION UTM_Y':'Section UTM Y', \\\n",
    "                                    'DateSampled': 'Date Sampled', \\\n",
    "                                    'METHOD': 'Method', \\\n",
    "                                    'ANALYTE': 'Analyte', \\\n",
    "                                    'DetectionLimit': 'Detection Limit'})"
   ]
  },
  {
   "cell_type": "code",
   "execution_count": 24,
   "metadata": {
    "collapsed": true
   },
   "outputs": [],
   "source": [
    "idem_13_14 = pd.DataFrame()\n",
    "for url in urls[4:7]:\n",
    "    data = pd.read_excel(url, sheetname='Detections')\n",
    "    idem_13_14 = idem_13_14.append(data)"
   ]
  },
  {
   "cell_type": "code",
   "execution_count": 30,
   "metadata": {},
   "outputs": [
    {
     "name": "stdout",
     "output_type": "stream",
     "text": [
      "<class 'pandas.core.frame.DataFrame'>\n",
      "Int64Index: 14351 entries, 0 to 4432\n",
      "Data columns (total 23 columns):\n",
      "ANALYTE                 14351 non-null object\n",
      "Bottle List             4923 non-null object\n",
      "COUNTY                  14351 non-null object\n",
      "DEPTH                   14338 non-null float64\n",
      "DateSampled             14351 non-null datetime64[ns]\n",
      "DetectionLimit          13993 non-null float64\n",
      "METHOD                  14174 non-null object\n",
      "PARCEL_ID               14351 non-null int64\n",
      "Physical_System_City    14313 non-null object\n",
      "RESULT                  9428 non-null float64\n",
      "RNG                     14351 non-null int64\n",
      "RNGD                    14257 non-null object\n",
      "Result                  4923 non-null float64\n",
      "SECTION UTM_X           4923 non-null float64\n",
      "SECTION UTM_Y           4923 non-null float64\n",
      "SECTION_UTM_X           9428 non-null float64\n",
      "SECTION_UTM_Y           9428 non-null float64\n",
      "SampleID                14351 non-null object\n",
      "SiteID                  14351 non-null object\n",
      "TOPO                    14351 non-null object\n",
      "TWP                     14351 non-null int64\n",
      "TWPD                    14257 non-null object\n",
      "Unit                    14351 non-null object\n",
      "dtypes: datetime64[ns](1), float64(8), int64(3), object(11)\n",
      "memory usage: 2.6+ MB\n"
     ]
    }
   ],
   "source": [
    "idem_13_14.info()"
   ]
  },
  {
   "cell_type": "code",
   "execution_count": 26,
   "metadata": {
    "collapsed": true
   },
   "outputs": [],
   "source": [
    "frames = [idem_08_10, idem_11, idem_12]\n",
    "data = pd.concat(frames)"
   ]
  },
  {
   "cell_type": "code",
   "execution_count": 31,
   "metadata": {},
   "outputs": [
    {
     "name": "stdout",
     "output_type": "stream",
     "text": [
      "<class 'pandas.core.frame.DataFrame'>\n",
      "Int64Index: 218468 entries, 0 to 4922\n",
      "Data columns (total 20 columns):\n",
      "Analyte               218468 non-null object\n",
      "Bottle List           4923 non-null object\n",
      "City                  218008 non-null object\n",
      "County                218468 non-null object\n",
      "Date Sampled          218468 non-null datetime64[ns]\n",
      "Detection Limit       216876 non-null float64\n",
      "GWMN Site ID          218468 non-null object\n",
      "Method                218468 non-null object\n",
      "Range                 218468 non-null int64\n",
      "Range Direction       216739 non-null object\n",
      "Result                217972 non-null object\n",
      "SAMPLEID              218468 non-null object\n",
      "Section               218468 non-null int64\n",
      "Section UTM X         218468 non-null float64\n",
      "Section UTM Y         218468 non-null float64\n",
      "Topographic Map       218468 non-null object\n",
      "Township              218468 non-null int64\n",
      "Township Direction    216739 non-null object\n",
      "Unit                  218468 non-null object\n",
      "Well Depth (ft)       218468 non-null float64\n",
      "dtypes: datetime64[ns](1), float64(4), int64(3), object(12)\n",
      "memory usage: 35.0+ MB\n"
     ]
    }
   ],
   "source": [
    "data.info()"
   ]
  },
  {
   "cell_type": "code",
   "execution_count": 34,
   "metadata": {},
   "outputs": [
    {
     "ename": "AttributeError",
     "evalue": "'numpy.ndarray' object has no attribute 'len'",
     "output_type": "error",
     "traceback": [
      "\u001b[0;31m---------------------------------------------------------------------------\u001b[0m",
      "\u001b[0;31mAttributeError\u001b[0m                            Traceback (most recent call last)",
      "\u001b[0;32m<ipython-input-34-0e64c7cf9bfe>\u001b[0m in \u001b[0;36m<module>\u001b[0;34m()\u001b[0m\n\u001b[0;32m----> 1\u001b[0;31m \u001b[0mdata\u001b[0m\u001b[0;34m[\u001b[0m\u001b[0;34m'SAMPLEID'\u001b[0m\u001b[0;34m]\u001b[0m\u001b[0;34m.\u001b[0m\u001b[0munique\u001b[0m\u001b[0;34m(\u001b[0m\u001b[0;34m)\u001b[0m\u001b[0;34m.\u001b[0m\u001b[0mlen\u001b[0m\u001b[0;34m(\u001b[0m\u001b[0;34m)\u001b[0m\u001b[0;34m\u001b[0m\u001b[0m\n\u001b[0m",
      "\u001b[0;31mAttributeError\u001b[0m: 'numpy.ndarray' object has no attribute 'len'"
     ]
    }
   ],
   "source": [
    "data['SAMPLEID'].unique().len()"
   ]
  },
  {
   "cell_type": "code",
   "execution_count": null,
   "metadata": {},
   "outputs": [],
   "source": []
  }
 ],
 "metadata": {
  "anaconda-cloud": {},
  "kernelspec": {
   "display_name": "Python 3",
   "language": "python",
   "name": "python3"
  },
  "language_info": {
   "codemirror_mode": {
    "name": "ipython",
    "version": 3
   },
   "file_extension": ".py",
   "mimetype": "text/x-python",
   "name": "python",
   "nbconvert_exporter": "python",
   "pygments_lexer": "ipython3",
   "version": "3.6.2"
  }
 },
 "nbformat": 4,
 "nbformat_minor": 2
}
