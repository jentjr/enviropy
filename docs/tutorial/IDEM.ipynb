{
 "cells": [
  {
   "cell_type": "code",
   "execution_count": 48,
   "metadata": {
    "collapsed": true
   },
   "outputs": [],
   "source": [
    "import pandas"
   ]
  },
  {
   "cell_type": "code",
   "execution_count": 35,
   "metadata": {
    "collapsed": true
   },
   "outputs": [],
   "source": [
    "BASE_IDEM_URL = 'http://www.in.gov/idem/cleanwater/files/gw_monitoring_network_data_'\n",
    "YEARS = ['2008', '2009', '2010', '2011', '2012', '2013', '2014']"
   ]
  },
  {
   "cell_type": "code",
   "execution_count": 36,
   "metadata": {},
   "outputs": [
    {
     "name": "stdout",
     "output_type": "stream",
     "text": [
      "http://www.in.gov/idem/cleanwater/files/gw_monitoring_network_data_2008.xls\n",
      "http://www.in.gov/idem/cleanwater/files/gw_monitoring_network_data_2009.xls\n",
      "http://www.in.gov/idem/cleanwater/files/gw_monitoring_network_data_2010.xls\n",
      "http://www.in.gov/idem/cleanwater/files/gw_monitoring_network_data_2011.xls\n",
      "http://www.in.gov/idem/cleanwater/files/gw_monitoring_network_data_2012.xls\n",
      "http://www.in.gov/idem/cleanwater/files/gw_monitoring_network_data_2013.xls\n",
      "http://www.in.gov/idem/cleanwater/files/gw_monitoring_network_data_2014.xls\n"
     ]
    }
   ],
   "source": [
    "for year in YEARS:\n",
    "    print(BASE_IDEM_URL+'{0}{1}'.format(year, '.xls'))"
   ]
  },
  {
   "cell_type": "code",
   "execution_count": 43,
   "metadata": {
    "collapsed": true
   },
   "outputs": [],
   "source": [
    "idem_14 = pandas.read_excel('http://www.in.gov/idem/cleanwater/files/gw_monitoring_network_data_2014.xls', sheetname='Detections')"
   ]
  },
  {
   "cell_type": "code",
   "execution_count": 44,
   "metadata": {},
   "outputs": [
    {
     "name": "stdout",
     "output_type": "stream",
     "text": [
      "<class 'pandas.core.frame.DataFrame'>\n",
      "RangeIndex: 4433 entries, 0 to 4432\n",
      "Data columns (total 19 columns):\n",
      "SiteID                  4433 non-null object\n",
      "Physical_System_City    4433 non-null object\n",
      "COUNTY                  4433 non-null object\n",
      "DEPTH                   4420 non-null float64\n",
      "TOPO                    4433 non-null object\n",
      "TWP                     4433 non-null int64\n",
      "TWPD                    4410 non-null object\n",
      "RNG                     4433 non-null int64\n",
      "RNGD                    4410 non-null object\n",
      "PARCEL_ID               4433 non-null int64\n",
      "SECTION_UTM_X           4433 non-null float64\n",
      "SECTION_UTM_Y           4433 non-null float64\n",
      "SampleID                4433 non-null object\n",
      "DateSampled             4433 non-null datetime64[ns]\n",
      "METHOD                  4433 non-null object\n",
      "ANALYTE                 4433 non-null object\n",
      "RESULT                  4433 non-null float64\n",
      "DetectionLimit          4427 non-null float64\n",
      "Unit                    4433 non-null object\n",
      "dtypes: datetime64[ns](1), float64(5), int64(3), object(10)\n",
      "memory usage: 658.1+ KB\n"
     ]
    }
   ],
   "source": [
    "idem_14.info()"
   ]
  },
  {
   "cell_type": "code",
   "execution_count": null,
   "metadata": {
    "collapsed": true
   },
   "outputs": [],
   "source": []
  },
  {
   "cell_type": "code",
   "execution_count": null,
   "metadata": {},
   "outputs": [],
   "source": []
  },
  {
   "cell_type": "code",
   "execution_count": null,
   "metadata": {
    "collapsed": true
   },
   "outputs": [],
   "source": []
  },
  {
   "cell_type": "code",
   "execution_count": null,
   "metadata": {},
   "outputs": [],
   "source": []
  },
  {
   "cell_type": "code",
   "execution_count": null,
   "metadata": {
    "collapsed": true
   },
   "outputs": [],
   "source": []
  }
 ],
 "metadata": {
  "anaconda-cloud": {},
  "kernelspec": {
   "display_name": "Python [default]",
   "language": "python",
   "name": "python3"
  },
  "language_info": {
   "codemirror_mode": {
    "name": "ipython",
    "version": 3
   },
   "file_extension": ".py",
   "mimetype": "text/x-python",
   "name": "python",
   "nbconvert_exporter": "python",
   "pygments_lexer": "ipython3",
   "version": "3.5.3"
  }
 },
 "nbformat": 4,
 "nbformat_minor": 2
}
